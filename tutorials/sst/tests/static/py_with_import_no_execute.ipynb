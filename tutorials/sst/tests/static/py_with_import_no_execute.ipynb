{
 "cells": [
  {
   "cell_type": "code",
   "execution_count": null,
   "id": "762616c9",
   "metadata": {},
   "outputs": [],
   "source": [
    "from tests.static.function_to_import import hello\n",
    "\n",
    "hello('John')"
   ]
  },
  {
   "cell_type": "markdown",
   "id": "238c2b98",
   "metadata": {},
   "source": [
    "Above should be printed output"
   ]
  }
 ],
 "metadata": {},
 "nbformat": 4,
 "nbformat_minor": 5
}
