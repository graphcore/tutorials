{
 "cells": [
  {
   "cell_type": "code",
   "execution_count": 1,
   "id": "f0ed0e79",
   "metadata": {
    "execution": {
     "iopub.execute_input": "2021-09-22T14:37:47.386279Z",
     "iopub.status.busy": "2021-09-22T14:37:47.384498Z",
     "iopub.status.idle": "2021-09-22T14:37:47.390641Z",
     "shell.execute_reply": "2021-09-22T14:37:47.390888Z"
    }
   },
   "outputs": [
    {
     "name": "stdout",
     "output_type": "stream",
     "text": [
      "Hello John!\n"
     ]
    }
   ],
   "source": [
    "from tests.static.function_to_import import hello\n",
    "\n",
    "hello('John')"
   ]
  },
  {
   "cell_type": "markdown",
   "id": "43b5610a",
   "metadata": {},
   "source": [
    "Above should be printed output"
   ]
  }
 ],
 "metadata": {
  "language_info": {
   "codemirror_mode": {
    "name": "ipython",
    "version": 3
   },
   "file_extension": ".py",
   "mimetype": "text/x-python",
   "name": "python",
   "nbconvert_exporter": "python",
   "pygments_lexer": "ipython3",
   "version": "3.9.6"
  }
 },
 "nbformat": 4,
 "nbformat_minor": 5
}